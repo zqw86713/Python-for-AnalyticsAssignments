{
 "cells": [
  {
   "cell_type": "code",
   "execution_count": 70,
   "id": "912756e0",
   "metadata": {},
   "outputs": [],
   "source": [
    "import numpy as np\n",
    "import pandas as pd\n",
    "from datetime import datetime\n",
    "import time\n",
    "import matplotlib.pyplot as plt"
   ]
  },
  {
   "cell_type": "markdown",
   "id": "952fa712",
   "metadata": {},
   "source": [
    "### STEP 0 Create Dateframe"
   ]
  },
  {
   "cell_type": "code",
   "execution_count": 3,
   "id": "cd91f664",
   "metadata": {},
   "outputs": [],
   "source": [
    "df = pd.read_feather(\"/Users/irislee/Uchicago Class Materials/3. 2Q/Python for Analytics/Assignment/RC_2012_year_cohort.feather\")"
   ]
  },
  {
   "cell_type": "markdown",
   "id": "ffd5def7",
   "metadata": {},
   "source": [
    "### STEP 1 Find the top 30 subreddits"
   ]
  },
  {
   "cell_type": "code",
   "execution_count": 87,
   "id": "8cda963a",
   "metadata": {},
   "outputs": [],
   "source": [
    "subreddit_comment_counts = df['subreddit'].value_counts()\n",
    "top30_subreddits = subreddit_comment_counts.head(30).index.tolist() # Change to 30 later\n",
    "top30_subreddits = top30_subreddits[28:30]"
   ]
  },
  {
   "cell_type": "code",
   "execution_count": 88,
   "id": "30774a6f",
   "metadata": {},
   "outputs": [
    {
     "data": {
      "text/plain": [
       "['Games', 'guns']"
      ]
     },
     "execution_count": 88,
     "metadata": {},
     "output_type": "execute_result"
    }
   ],
   "source": [
    "top30_subreddits"
   ]
  },
  {
   "cell_type": "code",
   "execution_count": 92,
   "id": "781daff3",
   "metadata": {},
   "outputs": [
    {
     "data": {
      "text/html": [
       "<div>\n",
       "<style scoped>\n",
       "    .dataframe tbody tr th:only-of-type {\n",
       "        vertical-align: middle;\n",
       "    }\n",
       "\n",
       "    .dataframe tbody tr th {\n",
       "        vertical-align: top;\n",
       "    }\n",
       "\n",
       "    .dataframe thead th {\n",
       "        text-align: right;\n",
       "    }\n",
       "</style>\n",
       "<table border=\"1\" class=\"dataframe\">\n",
       "  <thead>\n",
       "    <tr style=\"text-align: right;\">\n",
       "      <th></th>\n",
       "      <th>created_utc</th>\n",
       "      <th>author</th>\n",
       "      <th>subreddit</th>\n",
       "    </tr>\n",
       "  </thead>\n",
       "  <tbody>\n",
       "    <tr>\n",
       "      <th>0</th>\n",
       "      <td>1325376008</td>\n",
       "      <td>Pomberella2</td>\n",
       "      <td>guns</td>\n",
       "    </tr>\n",
       "    <tr>\n",
       "      <th>1</th>\n",
       "      <td>1325376009</td>\n",
       "      <td>CountNefarious</td>\n",
       "      <td>guns</td>\n",
       "    </tr>\n",
       "    <tr>\n",
       "      <th>2</th>\n",
       "      <td>1325376024</td>\n",
       "      <td>mt3chn1k</td>\n",
       "      <td>guns</td>\n",
       "    </tr>\n",
       "  </tbody>\n",
       "</table>\n",
       "</div>"
      ],
      "text/plain": [
       "   created_utc          author subreddit\n",
       "0   1325376008     Pomberella2      guns\n",
       "1   1325376009  CountNefarious      guns\n",
       "2   1325376024        mt3chn1k      guns"
      ]
     },
     "execution_count": 92,
     "metadata": {},
     "output_type": "execute_result"
    }
   ],
   "source": [
    "## TMP - Delete Later\n",
    "df_test = df[(df['subreddit'] == 'guns') | (df['subreddit'] == 'Games')]\n",
    "file_name = \"guns_games.csv\"\n",
    "df_test.to_csv(file_name, index = False, encoding='utf-8')\n",
    "df_tmp = pd.read_csv('guns_games.csv')\n",
    "df_tmp.head(3)"
   ]
  },
  {
   "cell_type": "markdown",
   "id": "fa660dcb",
   "metadata": {},
   "source": [
    "### STEPS 2 ~ 8"
   ]
  },
  {
   "cell_type": "code",
   "execution_count": 94,
   "id": "bb5a9498",
   "metadata": {},
   "outputs": [],
   "source": [
    "df_tmp['created_date'] = pd.to_datetime(df_tmp['created_utc'], unit='s').dt.date"
   ]
  },
  {
   "cell_type": "code",
   "execution_count": 95,
   "id": "eca5efd4",
   "metadata": {},
   "outputs": [
    {
     "name": "stdout",
     "output_type": "stream",
     "text": [
      "Elapsed time: 31.248234033584595 seconds\n"
     ]
    }
   ],
   "source": [
    "start_time = time.time()\n",
    "subreddit_dfs = {}\n",
    "\n",
    "for subreddit in top30_subreddits:\n",
    "    subreddit_df = df_tmp[df_tmp['subreddit'] == subreddit][['author', 'created_date']].drop_duplicates()\n",
    "\n",
    "    # create first_comment_df\n",
    "    first_comment_df = subreddit_df.groupby('author')['created_date'].min().reset_index(name='first_comment_date')\n",
    "    \n",
    "    # merge subreddit_df with first_comment_df based on author\n",
    "    combined_df = pd.merge(subreddit_df[['author', 'created_date']], first_comment_df, on='author')\n",
    "    \n",
    "    # calculate number of days since first comment\n",
    "    combined_df['days_since_first_comment'] = (combined_df['created_date'] - combined_df['first_comment_date']).dt.days\n",
    "\n",
    "    # group by author and days since first comment and count the number of rows\n",
    "    daily_activity_df = combined_df.groupby(['author', 'days_since_first_comment']).size().reset_index(name='activity_count')\n",
    "\n",
    "    # pivot the dataframe for the subreddit so that names of authors are on one axis and the days on which they commented are on the second axis\n",
    "    pivot_df = daily_activity_df.pivot(index='days_since_first_comment', columns='author', values='activity_count').fillna(0)\n",
    "    \n",
    "    # sum the number of commenters for each day\n",
    "    commenters_per_day = pivot_df.sum(axis=1)\n",
    "    \n",
    "    # calculate the % of authors who returned after their first comment\n",
    "    authors_day_0 = len(daily_activity_df[daily_activity_df['days_since_first_comment'] == 0]['author'].unique())\n",
    "    authors_retained = daily_activity_df[daily_activity_df['days_since_first_comment'] > 0]['author'].unique()\n",
    "    \n",
    "    retention_pct = []\n",
    "    for i in range(1, len(commenters_per_day)):\n",
    "        authors_returned = len(set(daily_activity_df[(daily_activity_df['days_since_first_comment'] == i) & (daily_activity_df['author'].isin(authors_retained))]['author']))\n",
    "        retention_pct.append(authors_returned/authors_day_0)\n",
    "        \n",
    "    # store the results in the dictionary\n",
    "    subreddit_dfs[f'{subreddit}_retention_pct'] = retention_pct\n",
    "    \n",
    "end_time = time.time()\n",
    "elapsed_time = end_time - start_time\n",
    "print(f\"Elapsed time: {elapsed_time} seconds\")"
   ]
  },
  {
   "cell_type": "code",
   "execution_count": 109,
   "id": "7b8c979d",
   "metadata": {},
   "outputs": [],
   "source": [
    "# combined_df[combined_df['author'] == 'CountNefarious'].head(2)\n",
    "# daily_activity_df[daily_activity_df['author'] == 'CountNefarious'].head(2)\n",
    "# pivot_df['CountNefarious'].tolist()\n",
    "# subreddit_dfs['guns_retention_pct']"
   ]
  },
  {
   "cell_type": "markdown",
   "id": "d4d83e15",
   "metadata": {},
   "source": [
    "### STEP 9"
   ]
  },
  {
   "cell_type": "code",
   "execution_count": 96,
   "id": "369ab65e",
   "metadata": {},
   "outputs": [
    {
     "name": "stdout",
     "output_type": "stream",
     "text": [
      "Games\n",
      "guns\n"
     ]
    },
    {
     "data": {
      "image/png": "[encoded data removed]",
      "text/plain": [
       "<Figure size 432x288 with 1 Axes>"
      ]
     },
     "metadata": {
      "needs_background": "light"
     },
     "output_type": "display_data"
    }
   ],
   "source": [
    "fig, ax = plt.subplots()\n",
    "\n",
    "for subreddit in top30_subreddits:\n",
    "    print(subreddit)\n",
    "    retention_pct = subreddit_dfs[f'{subreddit}_retention_pct']\n",
    "    ax.plot(retention_pct, label=subreddit)\n",
    "\n",
    "ax.set_xlabel('Days since first comment')\n",
    "ax.set_ylabel('% of authors who returned after their first comment')\n",
    "ax.set_title('Retention Curve')\n",
    "ax.legend()\n",
    "\n",
    "plt.show()"
   ]
  }
 ],
 "metadata": {
  "kernelspec": {
   "display_name": "Python 3 (ipykernel)",
   "language": "python",
   "name": "python3"
  },
  "language_info": {
   "codemirror_mode": {
    "name": "ipython",
    "version": 3
   },
   "file_extension": ".py",
   "mimetype": "text/x-python",
   "name": "python",
   "nbconvert_exporter": "python",
   "pygments_lexer": "ipython3",
   "version": "3.9.12"
  }
 },
 "nbformat": 4,
 "nbformat_minor": 5
}
