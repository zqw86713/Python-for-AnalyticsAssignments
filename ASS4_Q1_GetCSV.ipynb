{
  "cells": [
    {
      "cell_type": "code",
      "source": [
        "from google.colab import drive\n",
        "drive.mount('/content/drive',force_remount=True)"
      ],
      "metadata": {
        "colab": {
          "base_uri": "https://localhost:8080/"
        },
        "id": "tcM4EmHJt5xg",
        "outputId": "d7d0a209-dccb-4c2c-d496-e7f03cc39e49"
      },
      "id": "tcM4EmHJt5xg",
      "execution_count": null,
      "outputs": [
        {
          "output_type": "stream",
          "name": "stdout",
          "text": [
            "Mounted at /content/drive\n"
          ]
        }
      ]
    },
    {
      "cell_type": "code",
      "source": [
        "import sys\n",
        "import os\n",
        "import numpy as np\n",
        "import pandas as pd\n",
        "data_path = '/content/drive/MyDrive/Course/Python/'\n",
        "sys.path.append(os.path.abspath(data_path))\n",
        "df = pd.read_feather(data_path + 'RC_2012_year_cohort.feather')\n",
        "df.head()"
      ],
      "metadata": {
        "id": "5UlInX3muEz8",
        "colab": {
          "base_uri": "https://localhost:8080/",
          "height": 206
        },
        "outputId": "9109ce14-ec8d-4021-c6be-10d65344ba1b"
      },
      "id": "5UlInX3muEz8",
      "execution_count": null,
      "outputs": [
        {
          "output_type": "execute_result",
          "data": {
            "text/plain": [
              "   created_utc             author  subreddit\n",
              "0   1325376000          irwinator  AskReddit\n",
              "1   1325376000            reed311   politics\n",
              "2   1325376000         sagapo3851     gaming\n",
              "3   1325376000       filthgrinder   politics\n",
              "4   1325376001  BitterDivorcedDad        WTF"
            ],
            "text/html": [
              "\n",
              "  <div id=\"df-d1a84f1d-ebb3-4fb3-9ac6-8b4936b73863\">\n",
              "    <div class=\"colab-df-container\">\n",
              "      <div>\n",
              "<style scoped>\n",
              "    .dataframe tbody tr th:only-of-type {\n",
              "        vertical-align: middle;\n",
              "    }\n",
              "\n",
              "    .dataframe tbody tr th {\n",
              "        vertical-align: top;\n",
              "    }\n",
              "\n",
              "    .dataframe thead th {\n",
              "        text-align: right;\n",
              "    }\n",
              "</style>\n",
              "<table border=\"1\" class=\"dataframe\">\n",
              "  <thead>\n",
              "    <tr style=\"text-align: right;\">\n",
              "      <th></th>\n",
              "      <th>created_utc</th>\n",
              "      <th>author</th>\n",
              "      <th>subreddit</th>\n",
              "    </tr>\n",
              "  </thead>\n",
              "  <tbody>\n",
              "    <tr>\n",
              "      <th>0</th>\n",
              "      <td>1325376000</td>\n",
              "      <td>irwinator</td>\n",
              "      <td>AskReddit</td>\n",
              "    </tr>\n",
              "    <tr>\n",
              "      <th>1</th>\n",
              "      <td>1325376000</td>\n",
              "      <td>reed311</td>\n",
              "      <td>politics</td>\n",
              "    </tr>\n",
              "    <tr>\n",
              "      <th>2</th>\n",
              "      <td>1325376000</td>\n",
              "      <td>sagapo3851</td>\n",
              "      <td>gaming</td>\n",
              "    </tr>\n",
              "    <tr>\n",
              "      <th>3</th>\n",
              "      <td>1325376000</td>\n",
              "      <td>filthgrinder</td>\n",
              "      <td>politics</td>\n",
              "    </tr>\n",
              "    <tr>\n",
              "      <th>4</th>\n",
              "      <td>1325376001</td>\n",
              "      <td>BitterDivorcedDad</td>\n",
              "      <td>WTF</td>\n",
              "    </tr>\n",
              "  </tbody>\n",
              "</table>\n",
              "</div>\n",
              "      <button class=\"colab-df-convert\" onclick=\"convertToInteractive('df-d1a84f1d-ebb3-4fb3-9ac6-8b4936b73863')\"\n",
              "              title=\"Convert this dataframe to an interactive table.\"\n",
              "              style=\"display:none;\">\n",
              "        \n",
              "  <svg xmlns=\"http://www.w3.org/2000/svg\" height=\"24px\"viewBox=\"0 0 24 24\"\n",
              "       width=\"24px\">\n",
              "    <path d=\"M0 0h24v24H0V0z\" fill=\"none\"/>\n",
              "    <path d=\"M18.56 5.44l.94 2.06.94-2.06 2.06-.94-2.06-.94-.94-2.06-.94 2.06-2.06.94zm-11 1L8.5 8.5l.94-2.06 2.06-.94-2.06-.94L8.5 2.5l-.94 2.06-2.06.94zm10 10l.94 2.06.94-2.06 2.06-.94-2.06-.94-.94-2.06-.94 2.06-2.06.94z\"/><path d=\"M17.41 7.96l-1.37-1.37c-.4-.4-.92-.59-1.43-.59-.52 0-1.04.2-1.43.59L10.3 9.45l-7.72 7.72c-.78.78-.78 2.05 0 2.83L4 21.41c.39.39.9.59 1.41.59.51 0 1.02-.2 1.41-.59l7.78-7.78 2.81-2.81c.8-.78.8-2.07 0-2.86zM5.41 20L4 18.59l7.72-7.72 1.47 1.35L5.41 20z\"/>\n",
              "  </svg>\n",
              "      </button>\n",
              "      \n",
              "  <style>\n",
              "    .colab-df-container {\n",
              "      display:flex;\n",
              "      flex-wrap:wrap;\n",
              "      gap: 12px;\n",
              "    }\n",
              "\n",
              "    .colab-df-convert {\n",
              "      background-color: #E8F0FE;\n",
              "      border: none;\n",
              "      border-radius: 50%;\n",
              "      cursor: pointer;\n",
              "      display: none;\n",
              "      fill: #1967D2;\n",
              "      height: 32px;\n",
              "      padding: 0 0 0 0;\n",
              "      width: 32px;\n",
              "    }\n",
              "\n",
              "    .colab-df-convert:hover {\n",
              "      background-color: #E2EBFA;\n",
              "      box-shadow: 0px 1px 2px rgba(60, 64, 67, 0.3), 0px 1px 3px 1px rgba(60, 64, 67, 0.15);\n",
              "      fill: #174EA6;\n",
              "    }\n",
              "\n",
              "    [theme=dark] .colab-df-convert {\n",
              "      background-color: #3B4455;\n",
              "      fill: #D2E3FC;\n",
              "    }\n",
              "\n",
              "    [theme=dark] .colab-df-convert:hover {\n",
              "      background-color: #434B5C;\n",
              "      box-shadow: 0px 1px 3px 1px rgba(0, 0, 0, 0.15);\n",
              "      filter: drop-shadow(0px 1px 2px rgba(0, 0, 0, 0.3));\n",
              "      fill: #FFFFFF;\n",
              "    }\n",
              "  </style>\n",
              "\n",
              "      <script>\n",
              "        const buttonEl =\n",
              "          document.querySelector('#df-d1a84f1d-ebb3-4fb3-9ac6-8b4936b73863 button.colab-df-convert');\n",
              "        buttonEl.style.display =\n",
              "          google.colab.kernel.accessAllowed ? 'block' : 'none';\n",
              "\n",
              "        async function convertToInteractive(key) {\n",
              "          const element = document.querySelector('#df-d1a84f1d-ebb3-4fb3-9ac6-8b4936b73863');\n",
              "          const dataTable =\n",
              "            await google.colab.kernel.invokeFunction('convertToInteractive',\n",
              "                                                     [key], {});\n",
              "          if (!dataTable) return;\n",
              "\n",
              "          const docLinkHtml = 'Like what you see? Visit the ' +\n",
              "            '<a target=\"_blank\" href=https://colab.research.google.com/notebooks/data_table.ipynb>data table notebook</a>'\n",
              "            + ' to learn more about interactive tables.';\n",
              "          element.innerHTML = '';\n",
              "          dataTable['output_type'] = 'display_data';\n",
              "          await google.colab.output.renderOutput(dataTable, element);\n",
              "          const docLink = document.createElement('div');\n",
              "          docLink.innerHTML = docLinkHtml;\n",
              "          element.appendChild(docLink);\n",
              "        }\n",
              "      </script>\n",
              "    </div>\n",
              "  </div>\n",
              "  "
            ]
          },
          "metadata": {},
          "execution_count": 2
        }
      ]
    },
    {
      "cell_type": "markdown",
      "id": "de8c9c8c",
      "metadata": {
        "id": "de8c9c8c"
      },
      "source": [
        "# Q1 Find the top 30 subreddits\n",
        "\n",
        "Count the number of comments in each subreddit, sort that list and pick the top 30.\n",
        "\n",
        "While you are writing this code, it may be easier just to pick any three smaller sub-reddits. With smaller amount of data, you will be able to develop your code faster. Once you are sure the code works, switch to the top 30 sub-reddits.\n",
        "\n",
        "The remaining steps will be done per-subreddit. You can write the following logic in a function and call that function for each sub-reddit you are analyzing."
      ]
    },
    {
      "cell_type": "code",
      "execution_count": null,
      "id": "15b0c0d5",
      "metadata": {
        "id": "15b0c0d5",
        "colab": {
          "base_uri": "https://localhost:8080/"
        },
        "outputId": "9a9f7b98-e36c-4ea9-939a-1824881bf7ee"
      },
      "outputs": [
        {
          "output_type": "stream",
          "name": "stdout",
          "text": [
            "AskReddit: 32023468\n",
            "funny: 11909021\n",
            "pics: 8973606\n",
            "gaming: 6966306\n",
            "WTF: 6377885\n",
            "politics: 5397547\n",
            "atheism: 5043438\n",
            "leagueoflegends: 4029221\n",
            "IAmA: 3883036\n",
            "trees: 3846708\n",
            "videos: 3611531\n",
            "AdviceAnimals: 3571534\n",
            "todayilearned: 2858174\n",
            "fffffffuuuuuuuuuuuu: 2785323\n",
            "worldnews: 2270210\n",
            "gonewild: 2168728\n",
            "nfl: 2003374\n",
            "movies: 1745437\n",
            "starcraft: 1729070\n",
            "aww: 1691410\n",
            "technology: 1503424\n",
            "Minecraft: 1491322\n",
            "soccer: 1339712\n",
            "Music: 1146500\n",
            "nba: 1116769\n",
            "Diablo: 1100630\n",
            "mylittlepony: 1093572\n",
            "Guildwars2: 1080067\n",
            "Games: 1068527\n",
            "guns: 1024160\n"
          ]
        }
      ],
      "source": [
        "# Group the data by subreddit and count the number of comments\n",
        "subreddit_counts = df.groupby('subreddit')['created_utc'].count()\n",
        "\n",
        "# Sort the counts in descending order and pick the top 30\n",
        "top_subreddits = subreddit_counts.sort_values(ascending=False)[:30]\n",
        "\n",
        "sub_names = []\n",
        "\n",
        "# Print the top 30 subreddits and their comment counts\n",
        "for subreddit, count in top_subreddits.items():\n",
        "  sub_names.append(subreddit)\n",
        "  print(f\"{subreddit}: {count}\")"
      ]
    },
    {
      "cell_type": "code",
      "source": [
        "sub_names"
      ],
      "metadata": {
        "colab": {
          "base_uri": "https://localhost:8080/"
        },
        "id": "OfnMqrSigDlI",
        "outputId": "24781f7f-fa7e-4e98-a19c-e0704fc87f45"
      },
      "id": "OfnMqrSigDlI",
      "execution_count": null,
      "outputs": [
        {
          "output_type": "execute_result",
          "data": {
            "text/plain": [
              "['AskReddit',\n",
              " 'funny',\n",
              " 'pics',\n",
              " 'gaming',\n",
              " 'WTF',\n",
              " 'politics',\n",
              " 'atheism',\n",
              " 'leagueoflegends',\n",
              " 'IAmA',\n",
              " 'trees',\n",
              " 'videos',\n",
              " 'AdviceAnimals',\n",
              " 'todayilearned',\n",
              " 'fffffffuuuuuuuuuuuu',\n",
              " 'worldnews',\n",
              " 'gonewild',\n",
              " 'nfl',\n",
              " 'movies',\n",
              " 'starcraft',\n",
              " 'aww',\n",
              " 'technology',\n",
              " 'Minecraft',\n",
              " 'soccer',\n",
              " 'Music',\n",
              " 'nba',\n",
              " 'Diablo',\n",
              " 'mylittlepony',\n",
              " 'Guildwars2',\n",
              " 'Games',\n",
              " 'guns']"
            ]
          },
          "metadata": {},
          "execution_count": 4
        }
      ]
    },
    {
      "cell_type": "code",
      "source": [
        "for subreddit, count in top_subreddits.items():\n",
        "    subsec = df[df['subreddit'] == subreddit]\n",
        "    subsec.to_csv(data_path + f'{subreddit}.csv', index=False)\n",
        "    del subsec"
      ],
      "metadata": {
        "id": "f1q-JO7ndjPU"
      },
      "id": "f1q-JO7ndjPU",
      "execution_count": null,
      "outputs": []
    },
    {
      "cell_type": "code",
      "source": [
        "guns = df[df['subreddit'] == 'guns']\n",
        "guns.to_csv(data_path + 'guns.csv')"
      ],
      "metadata": {
        "id": "CoIFaqDhFS5D"
      },
      "id": "CoIFaqDhFS5D",
      "execution_count": null,
      "outputs": []
    },
    {
      "cell_type": "code",
      "source": [
        "guns.head()"
      ],
      "metadata": {
        "colab": {
          "base_uri": "https://localhost:8080/",
          "height": 206
        },
        "id": "HzI2Im7edU5a",
        "outputId": "d013374c-cd73-4bbb-ec7c-4baab928c171"
      },
      "id": "HzI2Im7edU5a",
      "execution_count": null,
      "outputs": [
        {
          "output_type": "execute_result",
          "data": {
            "text/plain": [
              "     created_utc          author subreddit\n",
              "60    1325376008     Pomberella2      guns\n",
              "62    1325376009  CountNefarious      guns\n",
              "132   1325376024        mt3chn1k      guns\n",
              "237   1325376042       [deleted]      guns\n",
              "300   1325376052        lokiusmc      guns"
            ],
            "text/html": [
              "\n",
              "  <div id=\"df-ba47849a-663c-4063-976f-f103f6096b29\">\n",
              "    <div class=\"colab-df-container\">\n",
              "      <div>\n",
              "<style scoped>\n",
              "    .dataframe tbody tr th:only-of-type {\n",
              "        vertical-align: middle;\n",
              "    }\n",
              "\n",
              "    .dataframe tbody tr th {\n",
              "        vertical-align: top;\n",
              "    }\n",
              "\n",
              "    .dataframe thead th {\n",
              "        text-align: right;\n",
              "    }\n",
              "</style>\n",
              "<table border=\"1\" class=\"dataframe\">\n",
              "  <thead>\n",
              "    <tr style=\"text-align: right;\">\n",
              "      <th></th>\n",
              "      <th>created_utc</th>\n",
              "      <th>author</th>\n",
              "      <th>subreddit</th>\n",
              "    </tr>\n",
              "  </thead>\n",
              "  <tbody>\n",
              "    <tr>\n",
              "      <th>60</th>\n",
              "      <td>1325376008</td>\n",
              "      <td>Pomberella2</td>\n",
              "      <td>guns</td>\n",
              "    </tr>\n",
              "    <tr>\n",
              "      <th>62</th>\n",
              "      <td>1325376009</td>\n",
              "      <td>CountNefarious</td>\n",
              "      <td>guns</td>\n",
              "    </tr>\n",
              "    <tr>\n",
              "      <th>132</th>\n",
              "      <td>1325376024</td>\n",
              "      <td>mt3chn1k</td>\n",
              "      <td>guns</td>\n",
              "    </tr>\n",
              "    <tr>\n",
              "      <th>237</th>\n",
              "      <td>1325376042</td>\n",
              "      <td>[deleted]</td>\n",
              "      <td>guns</td>\n",
              "    </tr>\n",
              "    <tr>\n",
              "      <th>300</th>\n",
              "      <td>1325376052</td>\n",
              "      <td>lokiusmc</td>\n",
              "      <td>guns</td>\n",
              "    </tr>\n",
              "  </tbody>\n",
              "</table>\n",
              "</div>\n",
              "      <button class=\"colab-df-convert\" onclick=\"convertToInteractive('df-ba47849a-663c-4063-976f-f103f6096b29')\"\n",
              "              title=\"Convert this dataframe to an interactive table.\"\n",
              "              style=\"display:none;\">\n",
              "        \n",
              "  <svg xmlns=\"http://www.w3.org/2000/svg\" height=\"24px\"viewBox=\"0 0 24 24\"\n",
              "       width=\"24px\">\n",
              "    <path d=\"M0 0h24v24H0V0z\" fill=\"none\"/>\n",
              "    <path d=\"M18.56 5.44l.94 2.06.94-2.06 2.06-.94-2.06-.94-.94-2.06-.94 2.06-2.06.94zm-11 1L8.5 8.5l.94-2.06 2.06-.94-2.06-.94L8.5 2.5l-.94 2.06-2.06.94zm10 10l.94 2.06.94-2.06 2.06-.94-2.06-.94-.94-2.06-.94 2.06-2.06.94z\"/><path d=\"M17.41 7.96l-1.37-1.37c-.4-.4-.92-.59-1.43-.59-.52 0-1.04.2-1.43.59L10.3 9.45l-7.72 7.72c-.78.78-.78 2.05 0 2.83L4 21.41c.39.39.9.59 1.41.59.51 0 1.02-.2 1.41-.59l7.78-7.78 2.81-2.81c.8-.78.8-2.07 0-2.86zM5.41 20L4 18.59l7.72-7.72 1.47 1.35L5.41 20z\"/>\n",
              "  </svg>\n",
              "      </button>\n",
              "      \n",
              "  <style>\n",
              "    .colab-df-container {\n",
              "      display:flex;\n",
              "      flex-wrap:wrap;\n",
              "      gap: 12px;\n",
              "    }\n",
              "\n",
              "    .colab-df-convert {\n",
              "      background-color: #E8F0FE;\n",
              "      border: none;\n",
              "      border-radius: 50%;\n",
              "      cursor: pointer;\n",
              "      display: none;\n",
              "      fill: #1967D2;\n",
              "      height: 32px;\n",
              "      padding: 0 0 0 0;\n",
              "      width: 32px;\n",
              "    }\n",
              "\n",
              "    .colab-df-convert:hover {\n",
              "      background-color: #E2EBFA;\n",
              "      box-shadow: 0px 1px 2px rgba(60, 64, 67, 0.3), 0px 1px 3px 1px rgba(60, 64, 67, 0.15);\n",
              "      fill: #174EA6;\n",
              "    }\n",
              "\n",
              "    [theme=dark] .colab-df-convert {\n",
              "      background-color: #3B4455;\n",
              "      fill: #D2E3FC;\n",
              "    }\n",
              "\n",
              "    [theme=dark] .colab-df-convert:hover {\n",
              "      background-color: #434B5C;\n",
              "      box-shadow: 0px 1px 3px 1px rgba(0, 0, 0, 0.15);\n",
              "      filter: drop-shadow(0px 1px 2px rgba(0, 0, 0, 0.3));\n",
              "      fill: #FFFFFF;\n",
              "    }\n",
              "  </style>\n",
              "\n",
              "      <script>\n",
              "        const buttonEl =\n",
              "          document.querySelector('#df-ba47849a-663c-4063-976f-f103f6096b29 button.colab-df-convert');\n",
              "        buttonEl.style.display =\n",
              "          google.colab.kernel.accessAllowed ? 'block' : 'none';\n",
              "\n",
              "        async function convertToInteractive(key) {\n",
              "          const element = document.querySelector('#df-ba47849a-663c-4063-976f-f103f6096b29');\n",
              "          const dataTable =\n",
              "            await google.colab.kernel.invokeFunction('convertToInteractive',\n",
              "                                                     [key], {});\n",
              "          if (!dataTable) return;\n",
              "\n",
              "          const docLinkHtml = 'Like what you see? Visit the ' +\n",
              "            '<a target=\"_blank\" href=https://colab.research.google.com/notebooks/data_table.ipynb>data table notebook</a>'\n",
              "            + ' to learn more about interactive tables.';\n",
              "          element.innerHTML = '';\n",
              "          dataTable['output_type'] = 'display_data';\n",
              "          await google.colab.output.renderOutput(dataTable, element);\n",
              "          const docLink = document.createElement('div');\n",
              "          docLink.innerHTML = docLinkHtml;\n",
              "          element.appendChild(docLink);\n",
              "        }\n",
              "      </script>\n",
              "    </div>\n",
              "  </div>\n",
              "  "
            ]
          },
          "metadata": {},
          "execution_count": 7
        }
      ]
    }
  ],
  "metadata": {
    "kernelspec": {
      "display_name": "Python 3 (ipykernel)",
      "language": "python",
      "name": "python3"
    },
    "language_info": {
      "codemirror_mode": {
        "name": "ipython",
        "version": 3
      },
      "file_extension": ".py",
      "mimetype": "text/x-python",
      "name": "python",
      "nbconvert_exporter": "python",
      "pygments_lexer": "ipython3",
      "version": "3.8.13"
    },
    "toc": {
      "base_numbering": 1,
      "nav_menu": {},
      "number_sections": true,
      "sideBar": true,
      "skip_h1_title": false,
      "title_cell": "Table of Contents",
      "title_sidebar": "Contents",
      "toc_cell": false,
      "toc_position": {},
      "toc_section_display": true,
      "toc_window_display": false
    },
    "varInspector": {
      "cols": {
        "lenName": 16,
        "lenType": 16,
        "lenVar": 40
      },
      "kernels_config": {
        "python": {
          "delete_cmd_postfix": "",
          "delete_cmd_prefix": "del ",
          "library": "var_list.py",
          "varRefreshCmd": "print(var_dic_list())"
        },
        "r": {
          "delete_cmd_postfix": ") ",
          "delete_cmd_prefix": "rm(",
          "library": "var_list.r",
          "varRefreshCmd": "cat(var_dic_list()) "
        }
      },
      "types_to_exclude": [
        "module",
        "function",
        "builtin_function_or_method",
        "instance",
        "_Feature"
      ],
      "window_display": false
    },
    "colab": {
      "provenance": []
    }
  },
  "nbformat": 4,
  "nbformat_minor": 5
}